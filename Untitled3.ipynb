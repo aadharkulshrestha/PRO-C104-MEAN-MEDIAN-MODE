{
  "nbformat": 4,
  "nbformat_minor": 0,
  "metadata": {
    "colab": {
      "name": "Untitled3.ipynb",
      "provenance": [],
      "authorship_tag": "ABX9TyNlgFLu4W+/P5b2jKi8RkS1",
      "include_colab_link": true
    },
    "kernelspec": {
      "name": "python3",
      "display_name": "Python 3"
    }
  },
  "cells": [
    {
      "cell_type": "markdown",
      "metadata": {
        "id": "view-in-github",
        "colab_type": "text"
      },
      "source": [
        "<a href=\"https://colab.research.google.com/github/aadharkulshrestha/PRO-C104-MEAN-MEDIAN-MODE/blob/main/Untitled3.ipynb\" target=\"_parent\"><img src=\"https://colab.research.google.com/assets/colab-badge.svg\" alt=\"Open In Colab\"/></a>"
      ]
    },
    {
      "cell_type": "code",
      "metadata": {
        "id": "XqVrEywPQFK1"
      },
      "source": [
        "from collections import Counter\r\n",
        "import csv"
      ],
      "execution_count": 5,
      "outputs": []
    },
    {
      "cell_type": "code",
      "metadata": {
        "id": "c8w2IkPSSl2F"
      },
      "source": [
        "def get_mean(total_weight, total_entries):\r\n",
        "    #Calculating Mean\r\n",
        "    mean = total_weight / total_entries\r\n",
        "    print(f\"Mean (Average) is -> {mean:2f}\")"
      ],
      "execution_count": 7,
      "outputs": []
    },
    {
      "cell_type": "code",
      "metadata": {
        "id": "9yGUnDStSv80"
      },
      "source": [
        "def get_median(total_entries, sorted_data):\r\n",
        "    #Calculating Median\r\n",
        "    if total_entries % 2 == 0:\r\n",
        "        median1 = float(sorted_data[total_entries//2])\r\n",
        "        median2 = float(sorted_data[total_entries//2 - 1])\r\n",
        "        median = (median1 + median2) / 2\r\n",
        "    else:\r\n",
        "        median = float(sorted_data[total_entries//2])\r\n",
        "    print(f\"Median is -> {median:2f}\")"
      ],
      "execution_count": 8,
      "outputs": []
    },
    {
      "cell_type": "code",
      "metadata": {
        "id": "K1ukmlmBS0-e"
      },
      "source": [
        "def get_mode(sorted_data):\r\n",
        "    #Calculating Mode\r\n",
        "    data = Counter(sorted_data)\r\n",
        "    mode_data_for_range = {\r\n",
        "                            \"75-85\": 0,\r\n",
        "                            \"85-95\": 0,\r\n",
        "                            \"95-105\": 0,\r\n",
        "                            \"105-115\": 0,\r\n",
        "                            \"115-125\": 0,\r\n",
        "                            \"125-135\": 0,\r\n",
        "                            \"135-145\": 0,\r\n",
        "                            \"145-155\": 0,\r\n",
        "                            \"155-165\": 0,\r\n",
        "                            \"165-175\": 0\r\n",
        "                        }\r\n",
        "    for weight, occurence in data.items():\r\n",
        "        if 75 < weight < 85:\r\n",
        "            mode_data_for_range[\"75-85\"] += occurence\r\n",
        "        elif 85 < weight < 95:\r\n",
        "            mode_data_for_range[\"85-95\"] += occurence\r\n",
        "        elif 95 < weight < 105:\r\n",
        "            mode_data_for_range[\"95-105\"] += occurence\r\n",
        "        elif 105 < weight < 115:\r\n",
        "            mode_data_for_range[\"105-115\"] += occurence\r\n",
        "        elif 115 < weight < 125:\r\n",
        "            mode_data_for_range[\"115-125\"] += occurence\r\n",
        "        elif 125 < weight < 135:\r\n",
        "            mode_data_for_range[\"125-135\"] += occurence\r\n",
        "        elif 135 < weight < 145:\r\n",
        "            mode_data_for_range[\"135-145\"] += occurence\r\n",
        "        elif 145 < weight < 155:\r\n",
        "            mode_data_for_range[\"145-155\"] += occurence\r\n",
        "        elif 155 < weight < 165:\r\n",
        "            mode_data_for_range[\"155-165\"] += occurence\r\n",
        "        elif 165 < weight < 175:\r\n",
        "            mode_data_for_range[\"165-175\"] += occurence\r\n",
        "    mode_range, mode_occurence = 0, 0\r\n",
        "    for range, occurence in mode_data_for_range.items():\r\n",
        "        if occurence > mode_occurence:\r\n",
        "            mode_range, mode_occurence = [int(range.split(\"-\")[0]), int(range.split(\"-\")[1])], occurence\r\n",
        "    mode = float((mode_range[0] + mode_range[1]) / 2)\r\n",
        "    print(f\"Mode is -> {mode:2f}\")"
      ],
      "execution_count": 9,
      "outputs": []
    },
    {
      "cell_type": "code",
      "metadata": {
        "colab": {
          "base_uri": "https://localhost:8080/"
        },
        "id": "ODUGKU3GS5Ei",
        "outputId": "7225bd79-bb2a-40dd-d116-1a2daaafffce"
      },
      "source": [
        "with open('/content/data.csv', newline='') as f:\r\n",
        "    reader = csv.reader(f)\r\n",
        "    file_data = list(reader)\r\n",
        "\r\n",
        "#To remove headers from CSV\r\n",
        "file_data.pop(0)\r\n",
        "\r\n",
        "total_weight = 0\r\n",
        "total_entries = len(file_data)\r\n",
        "sorted_data = []\r\n",
        "\r\n",
        "sorted_data.sort()\r\n",
        "\r\n",
        "get_mean(total_weight, total_entries)\r\n"
      ],
      "execution_count": 18,
      "outputs": [
        {
          "output_type": "stream",
          "text": [
            "Mean (Average) is -> 0.000000\n"
          ],
          "name": "stdout"
        }
      ]
    },
    {
      "cell_type": "code",
      "metadata": {
        "id": "oR8pgBYVS-fi"
      },
      "source": [
        ""
      ],
      "execution_count": null,
      "outputs": []
    }
  ]
}